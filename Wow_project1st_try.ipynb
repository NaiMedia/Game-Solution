{
 "cells": [
  {
   "cell_type": "markdown",
   "metadata": {},
   "source": [
    "# Sudoku Puzzle Generator"
   ]
  },
  {
   "cell_type": "code",
   "execution_count": 1,
   "metadata": {},
   "outputs": [],
   "source": [
    "from random import sample\n",
    "from copy import deepcopy"
   ]
  },
  {
   "cell_type": "markdown",
   "metadata": {},
   "source": [
    "## These variables define our baseline"
   ]
  },
  {
   "cell_type": "code",
   "execution_count": 2,
   "metadata": {},
   "outputs": [],
   "source": [
    "base  = 3\n",
    "side  = base*base\n",
    "symbol = \"123456789\"\n",
    "rBase = range(base)"
   ]
  },
  {
   "cell_type": "markdown",
   "metadata": {},
   "source": [
    "## Here we're defining the pattern for our baseline for a valid solution"
   ]
  },
  {
   "cell_type": "code",
   "execution_count": 3,
   "metadata": {},
   "outputs": [],
   "source": [
    "def pattern(r,c):\n",
    "    return (base*(r%base)+r//base+c)%side"
   ]
  },
  {
   "cell_type": "markdown",
   "metadata": {},
   "source": [
    "## Next we randomize the rows, columns and numbers of the valid base pattern"
   ]
  },
  {
   "cell_type": "code",
   "execution_count": 4,
   "metadata": {},
   "outputs": [],
   "source": [
    "def shuffle(s):\n",
    "    return sample(s,len(s)) "
   ]
  },
  {
   "cell_type": "code",
   "execution_count": 5,
   "metadata": {},
   "outputs": [],
   "source": [
    "nums = shuffle(range(1,base*base+1))\n",
    "\n",
    "# rows  = [ g*base + r for g in shuffle(rBase) for r in shuffle(rBase) ] \n",
    "# cols  = [ g*base + c for g in shuffle(rBase) for c in shuffle(rBase) ]\n"
   ]
  },
  {
   "cell_type": "markdown",
   "metadata": {},
   "source": [
    "## We define an expandline function to create a grid outside of our board"
   ]
  },
  {
   "cell_type": "code",
   "execution_count": 6,
   "metadata": {},
   "outputs": [],
   "source": [
    "def expandLine(line):\n",
    "    return line[0]+line[5:9].join([line[1:5]*(base-1)]*base)+line[9:13]"
   ]
  },
  {
   "cell_type": "code",
   "execution_count": 7,
   "metadata": {},
   "outputs": [],
   "source": [
    "def grid_layout(rBase):\n",
    "    axis = []\n",
    "    for g in shuffle(rBase):\n",
    "        for r in shuffle(rBase):\n",
    "            axis.append(g*base + r)\n",
    "    return axis"
   ]
  },
  {
   "cell_type": "code",
   "execution_count": 8,
   "metadata": {},
   "outputs": [],
   "source": [
    "rows = grid_layout(rBase)\n",
    "cols = grid_layout(rBase)"
   ]
  },
  {
   "cell_type": "markdown",
   "metadata": {},
   "source": [
    "## Here we define our Sudoku puzzle"
   ]
  },
  {
   "cell_type": "code",
   "execution_count": 9,
   "metadata": {},
   "outputs": [],
   "source": [
    "def puzzle():\n",
    "        \n",
    "    #board produces a grid using randomized baseline pattern with shuffling\n",
    "    board = [ [nums[pattern(r,c)] for c in cols] for r in rows ]\n",
    "    \n",
    "    #code removes numbers from board\n",
    "    squares = side*side\n",
    "    empties = squares * 3//4\n",
    "    for p in sample(range(squares),empties):\n",
    "        board[p//side][p%side] = 0\n",
    "    \n",
    "    #draws lines around our board\n",
    "    \n",
    "    line0  = expandLine(\"╔═══╤═══╦═══╗\")\n",
    "    line1  = expandLine(\"║ . │ . ║ . ║\")\n",
    "    line2  = expandLine(\"╟───┼───╫───╢\")\n",
    "    line3  = expandLine(\"╠═══╪═══╬═══╣\")\n",
    "    line4  = expandLine(\"╚═══╧═══╩═══╝\")\n",
    "\n",
    "    symbol = \" 1234567890ABCDEFGHIJKLMNOPQRSTUVWXYZ\"\n",
    "    nums2   = [ [\"\"]+[symbol[n] for n in row] for row in board ]\n",
    "    print(line0)\n",
    "    for r in range(1,side+1):\n",
    "        print( \"\".join(n+s for n,s in zip(nums2[r-1],line1.split(\".\"))) )\n",
    "        print([line2,line3,line4][(r%side==0)+(r%base==0)])"
   ]
  },
  {
   "cell_type": "code",
   "execution_count": 10,
   "metadata": {},
   "outputs": [
    {
     "name": "stdout",
     "output_type": "stream",
     "text": [
      "╔═══╤═══╤═══╦═══╤═══╤═══╦═══╤═══╤═══╗\n",
      "║ 7 │   │   ║   │   │   ║ 8 │   │ 3 ║\n",
      "╟───┼───┼───╫───┼───┼───╫───┼───┼───╢\n",
      "║   │   │   ║   │   │   ║   │   │ 6 ║\n",
      "╟───┼───┼───╫───┼───┼───╫───┼───┼───╢\n",
      "║   │   │   ║   │   │   ║   │   │   ║\n",
      "╠═══╪═══╪═══╬═══╪═══╪═══╬═══╪═══╪═══╣\n",
      "║   │   │   ║ 8 │   │   ║   │ 6 │   ║\n",
      "╟───┼───┼───╫───┼───┼───╫───┼───┼───╢\n",
      "║   │   │ 7 ║ 2 │ 4 │   ║ 1 │   │   ║\n",
      "╟───┼───┼───╫───┼───┼───╫───┼───┼───╢\n",
      "║ 2 │   │   ║   │   │   ║ 9 │   │ 8 ║\n",
      "╠═══╪═══╪═══╬═══╪═══╪═══╬═══╪═══╪═══╣\n",
      "║   │   │   ║   │ 6 │   ║ 3 │   │   ║\n",
      "╟───┼───┼───╫───┼───┼───╫───┼───┼───╢\n",
      "║   │ 6 │   ║ 4 │ 3 │   ║ 7 │   │   ║\n",
      "╟───┼───┼───╫───┼───┼───╫───┼───┼───╢\n",
      "║   │   │   ║   │   │   ║   │ 2 │ 9 ║\n",
      "╚═══╧═══╧═══╩═══╧═══╧═══╩═══╧═══╧═══╝\n"
     ]
    }
   ],
   "source": [
    "puzzle()"
   ]
  },
  {
   "cell_type": "code",
   "execution_count": 11,
   "metadata": {},
   "outputs": [
    {
     "name": "stdout",
     "output_type": "stream",
     "text": [
      "╔═══╤═══╤═══╦═══╤═══╤═══╦═══╤═══╤═══╗\n",
      "║   │   │   ║   │ 5 │ 4 ║   │ 1 │   ║\n",
      "╟───┼───┼───╫───┼───┼───╫───┼───┼───╢\n",
      "║   │   │ 1 ║   │   │   ║   │ 4 │   ║\n",
      "╟───┼───┼───╫───┼───┼───╫───┼───┼───╢\n",
      "║ 6 │   │   ║ 3 │   │   ║   │ 9 │   ║\n",
      "╠═══╪═══╪═══╬═══╪═══╪═══╬═══╪═══╪═══╣\n",
      "║   │ 1 │   ║   │   │   ║   │   │   ║\n",
      "╟───┼───┼───╫───┼───┼───╫───┼───┼───╢\n",
      "║ 8 │   │   ║ 2 │   │   ║   │   │   ║\n",
      "╟───┼───┼───╫───┼───┼───╫───┼───┼───╢\n",
      "║   │ 4 │   ║   │ 1 │   ║ 9 │ 7 │   ║\n",
      "╠═══╪═══╪═══╬═══╪═══╪═══╬═══╪═══╪═══╣\n",
      "║   │ 7 │   ║   │   │ 2 ║   │   │   ║\n",
      "╟───┼───┼───╫───┼───┼───╫───┼───┼───╢\n",
      "║   │   │   ║ 4 │   │   ║ 7 │   │   ║\n",
      "╟───┼───┼───╫───┼───┼───╫───┼───┼───╢\n",
      "║   │   │   ║ 1 │   │ 8 ║   │   │   ║\n",
      "╚═══╧═══╧═══╩═══╧═══╧═══╩═══╧═══╧═══╝\n"
     ]
    }
   ],
   "source": [
    "puzzle()"
   ]
  },
  {
   "cell_type": "code",
   "execution_count": 12,
   "metadata": {},
   "outputs": [
    {
     "name": "stdout",
     "output_type": "stream",
     "text": [
      "╔═══╤═══╤═══╦═══╤═══╤═══╦═══╤═══╤═══╗\n",
      "║   │   │ 9 ║   │   │ 4 ║ 8 │ 1 │   ║\n",
      "╟───┼───┼───╫───┼───┼───╫───┼───┼───╢\n",
      "║   │   │   ║   │ 2 │   ║   │   │   ║\n",
      "╟───┼───┼───╫───┼───┼───╫───┼───┼───╢\n",
      "║   │   │   ║   │   │   ║ 2 │   │   ║\n",
      "╠═══╪═══╪═══╬═══╪═══╪═══╬═══╪═══╪═══╣\n",
      "║   │   │ 3 ║   │   │   ║ 4 │   │   ║\n",
      "╟───┼───┼───╫───┼───┼───╫───┼───┼───╢\n",
      "║ 8 │ 9 │ 7 ║   │ 4 │   ║   │ 3 │   ║\n",
      "╟───┼───┼───╫───┼───┼───╫───┼───┼───╢\n",
      "║ 2 │   │ 6 ║   │   │   ║   │ 7 │   ║\n",
      "╠═══╪═══╪═══╬═══╪═══╪═══╬═══╪═══╪═══╣\n",
      "║   │   │   ║   │   │   ║   │   │ 4 ║\n",
      "╟───┼───┼───╫───┼───┼───╫───┼───┼───╢\n",
      "║   │ 6 │ 2 ║ 4 │   │   ║ 7 │   │   ║\n",
      "╟───┼───┼───╫───┼───┼───╫───┼───┼───╢\n",
      "║   │   │   ║   │   │   ║   │   │   ║\n",
      "╚═══╧═══╧═══╩═══╧═══╧═══╩═══╧═══╧═══╝\n"
     ]
    }
   ],
   "source": [
    "puzzle()"
   ]
  },
  {
   "cell_type": "code",
   "execution_count": 13,
   "metadata": {},
   "outputs": [
    {
     "name": "stdout",
     "output_type": "stream",
     "text": [
      "╔═══╤═══╤═══╦═══╤═══╤═══╦═══╤═══╤═══╗\n",
      "║   │   │   ║   │   │   ║   │   │   ║\n",
      "╟───┼───┼───╫───┼───┼───╫───┼───┼───╢\n",
      "║ 3 │   │   ║   │   │ 9 ║   │   │   ║\n",
      "╟───┼───┼───╫───┼───┼───╫───┼───┼───╢\n",
      "║   │   │   ║ 3 │ 8 │ 1 ║ 2 │ 9 │   ║\n",
      "╠═══╪═══╪═══╬═══╪═══╪═══╬═══╪═══╪═══╣\n",
      "║   │   │   ║ 8 │   │   ║   │   │   ║\n",
      "╟───┼───┼───╫───┼───┼───╫───┼───┼───╢\n",
      "║   │   │ 7 ║   │ 4 │   ║   │   │   ║\n",
      "╟───┼───┼───╫───┼───┼───╫───┼───┼───╢\n",
      "║   │ 4 │ 6 ║   │   │ 3 ║   │   │   ║\n",
      "╠═══╪═══╪═══╬═══╪═══╪═══╬═══╪═══╪═══╣\n",
      "║ 1 │   │   ║ 9 │ 6 │   ║   │   │   ║\n",
      "╟───┼───┼───╫───┼───┼───╫───┼───┼───╢\n",
      "║ 9 │   │   ║ 4 │   │   ║   │   │   ║\n",
      "╟───┼───┼───╫───┼───┼───╫───┼───┼───╢\n",
      "║   │ 3 │ 5 ║   │   │ 8 ║   │   │   ║\n",
      "╚═══╧═══╧═══╩═══╧═══╧═══╩═══╧═══╧═══╝\n"
     ]
    }
   ],
   "source": [
    "puzzle()"
   ]
  },
  {
   "cell_type": "code",
   "execution_count": null,
   "metadata": {},
   "outputs": [],
   "source": []
  }
 ],
 "metadata": {
  "kernelspec": {
   "display_name": "Python 3",
   "language": "python",
   "name": "python3"
  },
  "language_info": {
   "codemirror_mode": {
    "name": "ipython",
    "version": 3
   },
   "file_extension": ".py",
   "mimetype": "text/x-python",
   "name": "python",
   "nbconvert_exporter": "python",
   "pygments_lexer": "ipython3",
   "version": "3.8.3"
  }
 },
 "nbformat": 4,
 "nbformat_minor": 4
}
